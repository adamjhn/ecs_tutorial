{
 "cells": [
  {
   "cell_type": "markdown",
   "metadata": {},
   "source": [
    "Radial diffusion can be implemented in rxd using multicompartment reactions. By creating a series of shells and borders with reactions between them dependent the diffusion coefficient. "
   ]
  },
  {
   "cell_type": "code",
   "execution_count": 1,
   "metadata": {},
   "outputs": [
    {
     "data": {
      "text/plain": [
       "1.0"
      ]
     },
     "execution_count": 1,
     "metadata": {},
     "output_type": "execute_result"
    }
   ],
   "source": [
    "from neuron import h, rxd\n",
    "from neuron.units import nM, uM\n",
    "from matplotlib import pyplot\n",
    "import numpy\n",
    "h.load_file('stdrun.hoc')"
   ]
  },
  {
   "cell_type": "markdown",
   "metadata": {},
   "source": [
    "Create the NEURON, in this case a simply dendrite connected to a soma."
   ]
  },
  {
   "cell_type": "code",
   "execution_count": 2,
   "metadata": {},
   "outputs": [
    {
     "data": {
      "text/plain": [
       "__nrnsec_0x55fcbd3fedb0"
      ]
     },
     "execution_count": 2,
     "metadata": {},
     "output_type": "execute_result"
    }
   ],
   "source": [
    "soma = h.Section('soma')\n",
    "soma.L = soma.diam = 25\n",
    "soma.nseg = 1\n",
    "\n",
    "dend = h.Section('dend')\n",
    "dend.L = 100  \n",
    "dend.diam = 5\n",
    "dend.nseg = 101\n",
    "dend.connect(soma)"
   ]
  },
  {
   "cell_type": "markdown",
   "metadata": {},
   "source": [
    "Following the rxd Where/Who/What framework start by defining the where the diffusion takes place. Here we use 5 shells each with thickness 1μM in the dendrite and 5μM in the soma."
   ]
  },
  {
   "cell_type": "code",
   "execution_count": 3,
   "metadata": {},
   "outputs": [],
   "source": [
    "# Where -- define the shells and borders\n",
    "N = 5                   # number of shells -- must be >= 2\n",
    "\n",
    "# Where -- shells and border between them\n",
    "shells = []\n",
    "border = []\n",
    "for i in range(N-1):\n",
    "    shells.append(rxd.Region(h.allsec(), name='shell%i' % i,\n",
    "                  geometry=rxd.Shell(float(i)/N, (1.0+i)/N)))\n",
    "    border.append(rxd.Region(h.allsec(), name='border%i' % i,\n",
    "                  geometry=rxd.FixedPerimeter(2.0*h.PI*(1.0+i))))\n",
    "\n",
    "# the outer shell corresponds NEURON section concentration e.g. dend(0.5).cai\n",
    "shells.append(rxd.Region(h.allsec(), nrn_region='i', name='shell%i' % N,\n",
    "                  geometry=rxd.Shell((N-1.0)/N, 1.0)))\n"
   ]
  },
  {
   "cell_type": "markdown",
   "metadata": {},
   "source": [
    "Next we define 'Who' the calcium that is diffusing. Because multicompartment reactions are specified in moleques/um^2/ms we need to scale the diffusion coefficient used in the reactions."
   ]
  },
  {
   "cell_type": "code",
   "execution_count": 4,
   "metadata": {},
   "outputs": [],
   "source": [
    "# Who -- calcium with an inhomogeneous initial condition\n",
    "Dca = 0.6   #um^2/ms\n",
    "\n",
    "# scale factor so the flux (Dca/dr)*Ca has units molecules/um^2/ms (where dr is the thickness of the shell)\n",
    "mM_to_mol_per_um = 6.0221409e+23 * 1e-18\n",
    "\n",
    "ca = rxd.Species(shells, d=Dca, name='ca', charge=2, initial=lambda nd: \n",
    "                 1.0 * uM if 49.5 < nd.x3d - soma.L < 50.5 and nd.region == shells[0] else 60 * nM)"
   ]
  },
  {
   "cell_type": "markdown",
   "metadata": {},
   "source": [
    "Finally we specify 'What' the reactions that perform the radial diffusion."
   ]
  },
  {
   "cell_type": "code",
   "execution_count": 5,
   "metadata": {},
   "outputs": [],
   "source": [
    "# What -- use reactions to setup diffusion between the shells\n",
    "cas = []    # calcium on the shells\n",
    "for reg in shells:\n",
    "    cas.append(ca[reg])\n",
    "\n",
    "# create the multi-compartment reactions between the pairs of shells\n",
    "diffusions = []\n",
    "for i in range(N-1):\n",
    "    diffusions.append(rxd.MultiCompartmentReaction(cas[i], cas[i+1], \n",
    "                      mM_to_mol_per_um*Dca, \n",
    "                      mM_to_mol_per_um*Dca,\n",
    "                      border=border[i]))"
   ]
  },
  {
   "cell_type": "markdown",
   "metadata": {},
   "source": [
    "Now run the simulation and plot the results. The concentrations rapidly equilibrate between the shells, the speed is dependent on the diffusion coefficient, which could be reduced to account for tortuosity of macromolecular crowding in the cytosol. Additionally calcium buffering and uptake could be included with additional reactions and would also reduce this speed."
   ]
  },
  {
   "cell_type": "code",
   "execution_count": 6,
   "metadata": {},
   "outputs": [
    {
     "data": {
      "text/plain": [
       "Text(0,0.5,'Ca$^{+2}$ (nM)')"
      ]
     },
     "execution_count": 6,
     "metadata": {},
     "output_type": "execute_result"
    },
    {
     "data": {
      "image/png": "[encoded data removed]",
      "text/plain": [
       "<Figure size 432x288 with 2 Axes>"
      ]
     },
     "metadata": {},
     "output_type": "display_data"
    },
    {
     "data": {
      "image/png": "[encoded data removed]",
      "text/plain": [
       "<Figure size 432x288 with 1 Axes>"
      ]
     },
     "metadata": {},
     "output_type": "display_data"
    }
   ],
   "source": [
    "# run for 2.5ms and plot the results\n",
    "h.finitialize(-65)\n",
    "h.continuerun(2.5)\n",
    "\n",
    "# plot the calcium concentration (in nM) in the dendrite \n",
    "pyplot.figure()\n",
    "pyplot.imshow(numpy.array(ca.nodes(dend).concentration).reshape(N,dend.nseg) / nM,\n",
    "              origin='lower', extent=(0, dend.L, 0, dend.diam/2.0),\n",
    "              aspect='auto')\n",
    "pyplot.colorbar()\n",
    "pyplot.xlabel('x ($\\mu$m)')\n",
    "pyplot.ylabel('r ($\\mu$m)')\n",
    "\n",
    "\n",
    "# plot the calcium concentration in the neuron in each of the shells \n",
    "pyplot.figure()\n",
    "for i,shell in enumerate(shells):\n",
    "    pyplot.plot([nd.x3d - soma.L for nd in ca.nodes(shell)],\n",
    "                [nd.concentration / nM for nd in ca.nodes(shell)], label=\"shell$_%i$\" % i)\n",
    "pyplot.legend(frameon=False)\n",
    "pyplot.xlabel('x ($\\mu$m)')\n",
    "pyplot.ylabel('Ca$^{+2}$ (nM)')\n"
   ]
  }
 ],
 "metadata": {
  "kernelspec": {
   "display_name": "Python 2",
   "language": "python",
   "name": "python2"
  },
  "language_info": {
   "codemirror_mode": {
    "name": "ipython",
    "version": 2
   },
   "file_extension": ".py",
   "mimetype": "text/x-python",
   "name": "python",
   "nbconvert_exporter": "python",
   "pygments_lexer": "ipython2",
   "version": "2.7.15rc1"
  }
 },
 "nbformat": 4,
 "nbformat_minor": 2
}
